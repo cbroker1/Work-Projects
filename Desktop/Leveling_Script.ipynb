{
 "cells": [
  {
   "cell_type": "code",
   "execution_count": 1,
   "metadata": {},
   "outputs": [],
   "source": [
    "import os\n",
    "cwd = os.getcwd()\n",
    "cwd"
   ]
  },
  {
   "cell_type": "code",
   "execution_count": 2,
   "metadata": {},
   "outputs": [],
   "source": [
    "import pandas as pd\n",
    "import numpy as np\n",
    "\n",
    "df = pd.read_csv('FY19.csv', encoding = 'unicode_escape')"
   ]
  },
  {
   "cell_type": "code",
   "execution_count": 3,
   "metadata": {},
   "outputs": [],
   "source": [
    "#Insertion of Level Columns\n",
    "df['Level_1'] = np.nan\n",
    "df['Level_2'] = np.nan\n",
    "df['Level_3'] = np.nan"
   ]
  },
  {
   "cell_type": "code",
   "execution_count": 4,
   "metadata": {},
   "outputs": [],
   "source": [
    "#Remove \"The\" from Institution Column\n",
    "df['Institution'] = df['Institution'].replace('The Johns Hopkins Medical Institutions','Johns Hopkins Medical Institutions')\n",
    "df['Institution'] = df['Institution'].replace('The Johns Hopkins University','Johns Hopkins University')"
   ]
  },
  {
   "cell_type": "code",
   "execution_count": 5,
   "metadata": {},
   "outputs": [],
   "source": [
    "#Cleaning: Remove 'Family of Faculty' and replace with 'Faculty'\n",
    "df['Affiliation'] = df['Affiliation'].replace('Family of Faculty', 'Faculty')\n",
    "\n",
    "#Cleaning: Remove 'Family of Staff' with 'Staff'\n",
    "df['Affiliation'] = df['Affiliation'].replace('Family of Staff', 'Staff')\n",
    "\n",
    "#Cleaning: Remove 'Student??SOM Graduate' and 'Family of Student' with 'Student'\n",
    "df['Affiliation'] = df['Affiliation'].replace(['Student ?? SOM Graduate', 'Family of Student'], 'Student')\n",
    "\n",
    "#Cleaning: Remove 'Johns Hopkins Com. Physicians' with 'Johns Hopkins Communtiy Physicians'\n",
    "df['Division'] = df['Division'].replace('Johns Hopkins Com. Physicians', 'Johns Hopkins Community Physicians')\n",
    "\n",
    "#Cleaning: Remove 'Bloomberg School of Public Health' with 'School of Public Health'\n",
    "df['Division'] = df['Division'].replace('Bloomberg School of Public Health', 'School of Public Health')\n",
    "\n",
    "#Cleaning: Remove 'Nitze School of Advanced International Studies' with 'SAIS'\n",
    "df['Division'] = df['Division'].replace('Nitze School of Advanced International Studies', 'SAIS')"
   ]
  },
  {
   "cell_type": "code",
   "execution_count": 6,
   "metadata": {
    "scrolled": false
   },
   "outputs": [],
   "source": [
    "#Leveling: FASAP BMC\n",
    "df.at[df.index[(df.Institution == 'Johns Hopkins Medical Institutions') &\n",
    "               (df.Affiliation == 'Staff') & \n",
    "               (df.Division == 'Johns Hopkins Bayview Med Ctr')], 'Level_1'] = 'FASAP'\n",
    "df.at[df.index[(df.Institution == 'Johns Hopkins Medical Institutions') &\n",
    "               (df.Affiliation == 'Staff') & \n",
    "               (df.Division == 'Johns Hopkins Bayview Med Ctr')], 'Level_2'] = 'BMC'"
   ]
  },
  {
   "cell_type": "code",
   "execution_count": 7,
   "metadata": {},
   "outputs": [],
   "source": [
    "#Leveling: FASAP JHHS JHCP\n",
    "df.at[df.index[(df.Institution == 'Johns Hopkins Medical Institutions') &\n",
    "               (df.Affiliation == 'Staff') & \n",
    "               (df.Division == 'Johns Hopkins Community Physicians')], 'Level_1'] = 'FASAP'\n",
    "df.at[df.index[(df.Institution == 'Johns Hopkins Medical Institutions') &\n",
    "               (df.Affiliation == 'Staff') & \n",
    "               (df.Division == 'Johns Hopkins Community Physicians')], 'Level_2'] = 'JHHS'\n",
    "df.at[df.index[(df.Institution == 'Johns Hopkins Medical Institutions') &\n",
    "               (df.Affiliation == 'Staff') & \n",
    "               (df.Division == 'Johns Hopkins Community Physicians')], 'Level_3'] = 'JHCP'"
   ]
  },
  {
   "cell_type": "code",
   "execution_count": 8,
   "metadata": {},
   "outputs": [],
   "source": [
    "#Leveling: FASAP JHHS JHHC\n",
    "df.at[df.index[(df.Institution == 'Johns Hopkins Medical Institutions') &\n",
    "               (df.Affiliation == 'Staff') & \n",
    "               (df.Division == 'Johns Hopkins Health Care')], 'Level_1'] = 'FASAP'\n",
    "df.at[df.index[(df.Institution == 'Johns Hopkins Medical Institutions') &\n",
    "               (df.Affiliation == 'Staff') & \n",
    "               (df.Division == 'Johns Hopkins Health Care')], 'Level_2'] = 'JHHS'\n",
    "df.at[df.index[(df.Institution == 'Johns Hopkins Medical Institutions') &\n",
    "               (df.Affiliation == 'Staff') & \n",
    "               (df.Division == 'Johns Hopkins Health Care')], 'Level_3'] = 'JHHC'"
   ]
  },
  {
   "cell_type": "code",
   "execution_count": 9,
   "metadata": {},
   "outputs": [],
   "source": [
    "#Leveling: FASAP JHHS JHHS\n",
    "df.at[df.index[(df.Institution == 'Johns Hopkins Medical Institutions') &\n",
    "               (df.Affiliation == 'Staff') & \n",
    "               (df.Division == 'Johns Hopkins Health System')], 'Level_1'] = 'FASAP'\n",
    "df.at[df.index[(df.Institution == 'Johns Hopkins Medical Institutions') &\n",
    "               (df.Affiliation == 'Staff') & \n",
    "               (df.Division == 'Johns Hopkins Health System')], 'Level_2'] = 'JHHS'\n",
    "df.at[df.index[(df.Institution == 'Johns Hopkins Medical Institutions') &\n",
    "               (df.Affiliation == 'Staff') & \n",
    "               (df.Division == 'Johns Hopkins Health System')], 'Level_3'] = 'JHHS'"
   ]
  },
  {
   "cell_type": "code",
   "execution_count": 10,
   "metadata": {},
   "outputs": [],
   "source": [
    "#Leveling: FASAP JHHS JHHCG:\n",
    "\n",
    "#Johns Hopkins Home Care Group\n",
    "df.at[df.index[(df.Institution == 'Johns Hopkins Medical Institutions') &\n",
    "               (df.Affiliation == 'Staff') & \n",
    "               (df.Division == 'Johns Hopkins Home Care Group')], 'Level_1'] = 'FASAP'\n",
    "df.at[df.index[(df.Institution == 'Johns Hopkins Medical Institutions') &\n",
    "               (df.Affiliation == 'Staff') & \n",
    "               (df.Division == 'Johns Hopkins Home Care Group')], 'Level_2'] = 'JHHS'\n",
    "df.at[df.index[(df.Institution == 'Johns Hopkins Medical Institutions') &\n",
    "               (df.Affiliation == 'Staff') & \n",
    "               (df.Division == 'Johns Hopkins Home Care Group')], 'Level_3'] = 'JHHCG'\n",
    "\n",
    "#Johns Hopkins Home Health Svcs\n",
    "df.at[df.index[(df.Institution == 'Johns Hopkins Medical Institutions') &\n",
    "               (df.Affiliation == 'Staff') & \n",
    "               (df.Division == 'Johns Hopkins Home Health Svcs')], 'Level_1'] = 'FASAP'\n",
    "df.at[df.index[(df.Institution == 'Johns Hopkins Medical Institutions') &\n",
    "               (df.Affiliation == 'Staff') & \n",
    "               (df.Division == 'Johns Hopkins Home Health Svcs')], 'Level_2'] = 'JHHS'\n",
    "df.at[df.index[(df.Institution == 'Johns Hopkins Medical Institutions') &\n",
    "               (df.Affiliation == 'Staff') & \n",
    "               (df.Division == 'Johns Hopkins Home Health Svcs')], 'Level_3'] = 'JHHCG'\n",
    "\n",
    "#Johns Hopkins Peds at Home\n",
    "df.at[df.index[(df.Institution == 'Johns Hopkins Medical Institutions') &\n",
    "               (df.Affiliation == 'Staff') & \n",
    "               (df.Division == 'Johns Hopkins Ped at Home')], 'Level_1'] = 'FASAP'\n",
    "df.at[df.index[(df.Institution == 'Johns Hopkins Medical Institutions') &\n",
    "               (df.Affiliation == 'Staff') & \n",
    "               (df.Division == 'Johns Hopkins Ped at Home')], 'Level_2'] = 'JHHS'\n",
    "df.at[df.index[(df.Institution == 'Johns Hopkins Medical Institutions') &\n",
    "               (df.Affiliation == 'Staff') & \n",
    "               (df.Division == 'Johns Hopkins Ped at Home')], 'Level_3'] = 'JHHCG'\n",
    "\n",
    "#Johns Hopkins Pharmaquip\n",
    "df.at[df.index[(df.Institution == 'Johns Hopkins Medical Institutions') &\n",
    "               (df.Affiliation == 'Staff') & \n",
    "               (df.Division == 'Johns Hopkins Pharmaquip')], 'Level_1'] = 'FASAP'\n",
    "df.at[df.index[(df.Institution == 'Johns Hopkins Medical Institutions') &\n",
    "               (df.Affiliation == 'Staff') & \n",
    "               (df.Division == 'Johns Hopkins Pharmaquip')], 'Level_2'] = 'JHHS'\n",
    "df.at[df.index[(df.Institution == 'Johns Hopkins Medical Institutions') &\n",
    "               (df.Affiliation == 'Staff') & \n",
    "               (df.Division == 'Johns Hopkins Pharmaquip')], 'Level_3'] = 'JHHCG'"
   ]
  },
  {
   "cell_type": "code",
   "execution_count": 11,
   "metadata": {},
   "outputs": [],
   "source": [
    "#Leveling: FASAP JHHS JHH\n",
    "df.at[df.index[(df.Institution == 'Johns Hopkins Medical Institutions') &\n",
    "               (df.Affiliation == 'Staff') & \n",
    "               (df.Division == 'Johns Hopkins Hospital')], 'Level_1'] = 'FASAP'\n",
    "df.at[df.index[(df.Institution == 'Johns Hopkins Medical Institutions') &\n",
    "               (df.Affiliation == 'Staff') & \n",
    "               (df.Division == 'Johns Hopkins Hospital')], 'Level_2'] = 'JHHS'\n",
    "df.at[df.index[(df.Institution == 'Johns Hopkins Medical Institutions') &\n",
    "               (df.Affiliation == 'Staff') & \n",
    "               (df.Division == 'Johns Hopkins Hospital')], 'Level_3'] = 'JHH'"
   ]
  },
  {
   "cell_type": "code",
   "execution_count": 12,
   "metadata": {},
   "outputs": [],
   "source": [
    "#Leveling: FASAP JHU Faculty\n",
    "df.at[df.index[(df.Institution == 'Johns Hopkins University') &\n",
    "               (df.Affiliation == 'Faculty')], 'Level_1'] = 'FASAP'\n",
    "df.at[df.index[(df.Institution == 'Johns Hopkins University') &\n",
    "               (df.Affiliation == 'Faculty')], 'Level_2'] = 'JHU'\n",
    "df.at[df.index[(df.Institution == 'Johns Hopkins University') &\n",
    "               (df.Affiliation == 'Faculty')], 'Level_3'] = 'Faculty'"
   ]
  },
  {
   "cell_type": "code",
   "execution_count": 13,
   "metadata": {},
   "outputs": [],
   "source": [
    "#Leveling: FASAP JHU Staff\n",
    "df.at[df.index[(df.Institution == 'Johns Hopkins University') &\n",
    "               (df.Affiliation == 'Staff')], 'Level_1'] = 'FASAP'\n",
    "df.at[df.index[(df.Institution == 'Johns Hopkins University') &\n",
    "               (df.Affiliation == 'Staff')], 'Level_2'] = 'JHU'\n",
    "df.at[df.index[(df.Institution == 'Johns Hopkins University') &\n",
    "               (df.Affiliation == 'Staff')], 'Level_3'] = 'Staff'"
   ]
  },
  {
   "cell_type": "code",
   "execution_count": 14,
   "metadata": {},
   "outputs": [],
   "source": [
    "#Leveling: JHSAP BSPH\n",
    "df.at[df.index[(df.Institution == 'Johns Hopkins University') &\n",
    "               (df.Affiliation == 'Student') & \n",
    "               (df.Division == 'School of Public Health')], 'Level_1'] = 'JHSAP'\n",
    "df.at[df.index[(df.Institution == 'Johns Hopkins University') &\n",
    "               (df.Affiliation == 'Student') &\n",
    "               (df.Division == 'School of Public Health')], 'Level_2'] = 'BSPH'"
   ]
  },
  {
   "cell_type": "code",
   "execution_count": 15,
   "metadata": {},
   "outputs": [],
   "source": [
    "#Leveling: JHSAP CBS\n",
    "df.at[df.index[(df.Institution == 'Johns Hopkins University') &\n",
    "               (df.Affiliation == 'Student') & \n",
    "               (df.Division == 'Carey Business School')], 'Level_1'] = 'JHSAP'\n",
    "df.at[df.index[(df.Institution == 'Johns Hopkins University') &\n",
    "               (df.Affiliation == 'Student') &\n",
    "               (df.Division == 'Carey Business School')], 'Level_2'] = 'CBS'"
   ]
  },
  {
   "cell_type": "code",
   "execution_count": 16,
   "metadata": {},
   "outputs": [],
   "source": [
    "#Leveling: JHSAP EP - FILL IN LATER"
   ]
  },
  {
   "cell_type": "code",
   "execution_count": 17,
   "metadata": {},
   "outputs": [],
   "source": [
    "#Leveling: JHSAP SAIS\n",
    "df.at[df.index[(df.Institution == 'Johns Hopkins University') &\n",
    "               (df.Affiliation == 'Student') & \n",
    "               (df.Division == 'SAIS')], 'Level_1'] = 'JHSAP'\n",
    "df.at[df.index[(df.Institution == 'Johns Hopkins University') &\n",
    "               (df.Affiliation == 'Student') &\n",
    "               (df.Division == 'SAIS')], 'Level_2'] = 'SAIS'"
   ]
  },
  {
   "cell_type": "code",
   "execution_count": 18,
   "metadata": {},
   "outputs": [],
   "source": [
    "#Leveling: JHSAP SOE\n",
    "df.at[df.index[(df.Institution == 'Johns Hopkins University') &\n",
    "               (df.Affiliation == 'Student') & \n",
    "               (df.Division == 'School of Education')], 'Level_1'] = 'JHSAP'\n",
    "df.at[df.index[(df.Institution == 'Johns Hopkins University') &\n",
    "               (df.Affiliation == 'Student') &\n",
    "               (df.Division == 'School of Education')], 'Level_2'] = 'SOE'"
   ]
  },
  {
   "cell_type": "code",
   "execution_count": 19,
   "metadata": {},
   "outputs": [],
   "source": [
    "#Leveling: JHSAP SOM\n",
    "\n",
    "#Medical student\n",
    "df.at[df.index[(df.Institution == 'Johns Hopkins University') &\n",
    "               (df.Affiliation == 'Student') & \n",
    "               (df.Division == 'School of Medicine') &\n",
    "               (df.Title == 'Medical student')], 'Level_1'] = 'JHSAP'\n",
    "df.at[df.index[(df.Institution == 'Johns Hopkins University') &\n",
    "               (df.Affiliation == 'Student') & \n",
    "               (df.Division == 'School of Medicine') &\n",
    "               (df.Title == 'Medical student')], 'Level_2'] = 'SOM'\n",
    "df.at[df.index[(df.Institution == 'Johns Hopkins University') &\n",
    "               (df.Affiliation == 'Student') & \n",
    "               (df.Division == 'School of Medicine') &\n",
    "               (df.Title == 'Medical student')], 'Level_3'] = 'Medical Student'\n",
    "\n",
    "#Graduate student\n",
    "df.at[df.index[(df.Institution == 'Johns Hopkins University') &\n",
    "               (df.Affiliation == 'Student') & \n",
    "               (df.Division == 'School of Medicine') &\n",
    "               (df.Title == 'Graduate student')], 'Level_1'] = 'JHSAP'\n",
    "df.at[df.index[(df.Institution == 'Johns Hopkins University') &\n",
    "               (df.Affiliation == 'Student') & \n",
    "               (df.Division == 'School of Medicine') &\n",
    "               (df.Title == 'Graduate student')], 'Level_2'] = 'SOM'\n",
    "df.at[df.index[(df.Institution == 'Johns Hopkins University') &\n",
    "               (df.Affiliation == 'Student') & \n",
    "               (df.Division == 'School of Medicine') &\n",
    "               (df.Title == 'Graduate student')], 'Level_3'] = 'Graduate Student'"
   ]
  },
  {
   "cell_type": "code",
   "execution_count": 20,
   "metadata": {},
   "outputs": [],
   "source": [
    "#Leveling: JHSAP SON\n",
    "df.at[df.index[(df.Institution == 'Johns Hopkins University') &\n",
    "               (df.Affiliation == 'Student') & \n",
    "               (df.Division == 'School of Nursing')], 'Level_1'] = 'JHSAP'\n",
    "df.at[df.index[(df.Institution == 'Johns Hopkins University') &\n",
    "               (df.Affiliation == 'Student') &\n",
    "               (df.Division == 'School of Nursing')], 'Level_2'] = 'SON'"
   ]
  },
  {
   "cell_type": "code",
   "execution_count": 21,
   "metadata": {},
   "outputs": [],
   "source": [
    "#Leveling: JHSAP General\n",
    "df.at[df.index[(df.Institution == 'Johns Hopkins University') & \n",
    "               (df.Division == 'JHSAP General')], 'Level_1'] = 'JHSAP'\n",
    "df.at[df.index[(df.Institution == 'Johns Hopkins University') &\n",
    "               (df.Division == 'JHSAP General')], 'Level_2'] = 'General'\n",
    "df.at[df.index[(df.Institution == 'Johns Hopkins University') &\n",
    "               (df.Division == 'JHSAP General')], 'Level_3'] = ' '"
   ]
  },
  {
   "cell_type": "code",
   "execution_count": 22,
   "metadata": {},
   "outputs": [],
   "source": [
    "#Save df to csv\n",
    "df.to_csv('C:\\\\Users\\\\cbroker1\\\\Desktop\\\\work\\\\Desktop\\\\data.csv')"
   ]
  },
  {
   "cell_type": "code",
   "execution_count": 23,
   "metadata": {},
   "outputs": [],
   "source": [
    "#Recalculate Duration Into Decimal (from hh:mm:ss)\n",
    "#df = df.set_index(pd.DatetimeIndex(df['Duration']))\n",
    "#idx = pd.DatetimeIndex(df['Duration'])\n",
    "#df['Duration_Decimal'] = idx.hour + idx.minute / 60"
   ]
  }
 ],
 "metadata": {
  "kernelspec": {
   "display_name": "Python 3",
   "language": "python",
   "name": "python3"
  },
  "language_info": {
   "codemirror_mode": {
    "name": "ipython",
    "version": 3
   },
   "file_extension": ".py",
   "mimetype": "text/x-python",
   "name": "python",
   "nbconvert_exporter": "python",
   "pygments_lexer": "ipython3",
   "version": "3.6.5"
  }
 },
 "nbformat": 4,
 "nbformat_minor": 2
}
