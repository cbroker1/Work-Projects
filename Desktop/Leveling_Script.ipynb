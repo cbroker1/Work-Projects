{
 "cells": [
  {
   "cell_type": "code",
   "execution_count": 1,
   "metadata": {},
   "outputs": [],
   "source": [
    "import pandas as pd\n",
    "import numpy as np\n",
    "\n",
    "df = pd.read_csv('FY19_Sept.csv', encoding = 'unicode_escape')\n",
    "\n",
    "df['Level_1'] = np.nan\n",
    "df['Level_2'] = np.nan\n",
    "df['Level_3'] = np.nan"
   ]
  },
  {
   "cell_type": "code",
   "execution_count": 2,
   "metadata": {},
   "outputs": [],
   "source": [
    "#Remove \"The\" from Division Column\n",
    "df['Institution'] = df['Institution'].replace('The Johns Hopkins Medical Institutions','Johns Hopkins Medical Institutions')\n",
    "df['Institution'] = df['Institution'].replace('The Johns Hopkins University','Johns Hopkins University')\n",
    "##Works"
   ]
  },
  {
   "cell_type": "code",
   "execution_count": 3,
   "metadata": {},
   "outputs": [],
   "source": [
    "#Remove 'Family of Faculty' and replace with 'Faculty'\n",
    "df['Affiliation'] = df['Affiliation'].replace('Family of Faculty', 'Faculty')\n",
    "#Remove 'Family of Staff' with 'Staff'\n",
    "df['Affiliation'] = df['Affiliation'].replace('Family of Staff', 'Staff')\n",
    "#Remove 'Student??SOM Graduate' and 'Family of Student' with 'Student'\n",
    "df['Affiliation'] = df['Affiliation'].replace(['Student ?? SOM Graduate', 'Family of Student'], 'Student')\n"
   ]
  },
  {
   "cell_type": "code",
   "execution_count": 4,
   "metadata": {
    "scrolled": true
   },
   "outputs": [
    {
     "name": "stdout",
     "output_type": "stream",
     "text": [
      "1.25 ms ± 14.1 µs per loop (mean ± std. dev. of 7 runs, 1000 loops each)\n",
      "1.25 ms ± 10.7 µs per loop (mean ± std. dev. of 7 runs, 1000 loops each)\n"
     ]
    }
   ],
   "source": [
    "#Leveling: FASAP BMC\n",
    "df.index[(df.Institution == 'Johns Hopkins Medical Institution') | (df.Division == 'Johns Hopkins Bayview Med Ctr')]\n",
    "%timeit df.at[df.index[(df.Institution == 'Johns Hopkins Medical Institution') | (df.Division == 'Johns Hopkins Bayview Med Ctr')], 'Level_1'] = 'FASAP'\n",
    "%timeit df.at[df.index[(df.Institution == 'Johns Hopkins Medical Institution') | (df.Division == 'Johns Hopkins Bayview Med Ctr')], 'Level_2'] = 'BMC'"
   ]
  },
  {
   "cell_type": "code",
   "execution_count": 5,
   "metadata": {},
   "outputs": [],
   "source": [
    "#Recalculate Duration Into Decimal (from hh:mm:ss)\n",
    "df = df.set_index(pd.DatetimeIndex(df['Duration']))\n",
    "idx = pd.DatetimeIndex(df['Duration'])\n",
    "df['Duration_Decimal'] = idx.hour + idx.minute / 60"
   ]
  },
  {
   "cell_type": "code",
   "execution_count": 6,
   "metadata": {},
   "outputs": [],
   "source": [
    "#Save df to csv\n",
    "df.to_csv('C:/Users/carlb/Desktop/data.csv')"
   ]
  }
 ],
 "metadata": {
  "kernelspec": {
   "display_name": "Python 3",
   "language": "python",
   "name": "python3"
  },
  "language_info": {
   "codemirror_mode": {
    "name": "ipython",
    "version": 3
   },
   "file_extension": ".py",
   "mimetype": "text/x-python",
   "name": "python",
   "nbconvert_exporter": "python",
   "pygments_lexer": "ipython3",
   "version": "3.6.5"
  }
 },
 "nbformat": 4,
 "nbformat_minor": 2
}
