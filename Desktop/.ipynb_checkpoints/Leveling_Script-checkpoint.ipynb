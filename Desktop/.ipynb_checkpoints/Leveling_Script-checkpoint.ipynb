{
 "cells": [
  {
   "cell_type": "code",
   "execution_count": 1,
   "metadata": {},
   "outputs": [
    {
     "data": {
      "text/plain": [
       "'C:\\\\Users\\\\cbroker1\\\\Desktop\\\\work\\\\Desktop'"
      ]
     },
     "execution_count": 1,
     "metadata": {},
     "output_type": "execute_result"
    }
   ],
   "source": [
    "import os\n",
    "cwd = os.getcwd()\n",
    "cwd"
   ]
  },
  {
   "cell_type": "code",
   "execution_count": 26,
   "metadata": {},
   "outputs": [],
   "source": [
    "import pandas as pd\n",
    "import numpy as np\n",
    "\n",
    "df = pd.read_csv('FY19.csv', encoding = 'unicode_escape')\n",
    "\n",
    "df['Level_1'] = np.nan\n",
    "df['Level_2'] = np.nan\n",
    "df['Level_3'] = np.nan"
   ]
  },
  {
   "cell_type": "code",
   "execution_count": 3,
   "metadata": {},
   "outputs": [],
   "source": [
    "#Remove \"The\" from Institution Column\n",
    "df['Institution'] = df['Institution'].replace('The Johns Hopkins Medical Institutions','Johns Hopkins Medical Institutions')\n",
    "df['Institution'] = df['Institution'].replace('The Johns Hopkins University','Johns Hopkins University')"
   ]
  },
  {
   "cell_type": "code",
   "execution_count": 4,
   "metadata": {},
   "outputs": [],
   "source": [
    "#Cleaning: Remove 'Family of Faculty' and replace with 'Faculty'\n",
    "df['Affiliation'] = df['Affiliation'].replace('Family of Faculty', 'Faculty')\n",
    "\n",
    "#Cleaning: Remove 'Family of Staff' with 'Staff'\n",
    "df['Affiliation'] = df['Affiliation'].replace('Family of Staff', 'Staff')\n",
    "\n",
    "#Cleaning: Remove 'Student??SOM Graduate' and 'Family of Student' with 'Student'\n",
    "df['Affiliation'] = df['Affiliation'].replace(['Student ?? SOM Graduate', 'Family of Student'], 'Student')\n",
    "\n",
    "#Cleaning: Remove 'Johns Hopkins Com. Physicians' with 'Johns Hopkins Communtiy Physicians'\n",
    "df['Division'] = df['Division'].replace('Johns Hopkins Com. Physicians', 'Johns Hopkins Community Physicians')\n",
    "\n",
    "#Cleaning: Remove 'NA' with 'General'\n",
    "df['Division'] = df['Division'].replace('Blank', 'General')"
   ]
  },
  {
   "cell_type": "code",
   "execution_count": 5,
   "metadata": {},
   "outputs": [
    {
     "data": {
      "text/plain": [
       "Date                                            9/5/2018 0:00\n",
       "Time                                                      NaN\n",
       "Duration                                          12:00:00 AM\n",
       "Client Name                      Hannah Fegley/Mary Vincitore\n",
       "Clinician Name                                            NaN\n",
       "Program                                                   NaN\n",
       "Crisis Level                                              NaN\n",
       "OnCall                                                    NaN\n",
       "ApptOutcome                                               NaN\n",
       "Type                                                 Non-Case\n",
       "Status                                                    NaN\n",
       "Type of Service                 Visibility Table / Info Table\n",
       "Appointment Notes                                         NaN\n",
       "Mode of Contact                                           NaN\n",
       "Location                                                  NaN\n",
       "Type of Referral                                          NaN\n",
       "Meeting The Metrics                                       NaN\n",
       "Referred By                                               NaN\n",
       "How did you hear about us?                                NaN\n",
       "Institution                          Johns Hopkins University\n",
       "Affiliation                                               NaN\n",
       "Division                                                  NaN\n",
       "Department                                                NaN\n",
       "Title                                                     NaN\n",
       "ManagerConsultFName                                       NaN\n",
       "ManagerConsultLName                                       NaN\n",
       "NumConsultativeConversations                                0\n",
       "ResourcesMaterialsGiven                                   NaN\n",
       "NumOfGroupInterventions                                     0\n",
       "NumOfPeopleAffected                                         0\n",
       "NumOfIndividualInterventions                                0\n",
       "CaseNumber                                                NaN\n",
       "Level_1                                                   NaN\n",
       "Level_2                                                   NaN\n",
       "Level_3                                                   NaN\n",
       "Name: 47, dtype: object"
      ]
     },
     "execution_count": 5,
     "metadata": {},
     "output_type": "execute_result"
    }
   ],
   "source": [
    "df.iloc[47]"
   ]
  },
  {
   "cell_type": "code",
   "execution_count": 6,
   "metadata": {
    "scrolled": false
   },
   "outputs": [],
   "source": [
    "#Leveling: FASAP BMC\n",
    "df.index[(df.Division == 'Johns Hopkins Bayview Med Ctr')]\n",
    "df.at[df.index[(df.Division == 'Johns Hopkins Bayview Med Ctr')], 'Level_1'] = 'FASAP'\n",
    "df.at[df.index[(df.Division == 'Johns Hopkins Bayview Med Ctr')], 'Level_2'] = 'BMC'"
   ]
  },
  {
   "cell_type": "code",
   "execution_count": 7,
   "metadata": {},
   "outputs": [],
   "source": [
    "#Leveling: FASAP JHHS JHCP\n",
    "df.index[(df.Division == 'Johns Hopkins Community Physicians')]\n",
    "df.at[df.index[(df.Division == 'Johns Hopkins Community Physicians')], 'Level_1'] = 'FASAP'\n",
    "df.at[df.index[(df.Division == 'Johns Hopkins Community Physicians')], 'Level_2'] = 'JHHS'\n",
    "df.at[df.index[(df.Division == 'Johns Hopkins Community Physicians')], 'Level_3'] = 'JHCP'"
   ]
  },
  {
   "cell_type": "code",
   "execution_count": 8,
   "metadata": {},
   "outputs": [],
   "source": [
    "#Leveling: FASAP JHHS JHHC\n",
    "df.index[(df.Division == 'Johns Hopkins Health Care')]\n",
    "df.at[df.index[(df.Division == 'Johns Hopkins Health Care')], 'Level_1'] = 'FASAP'\n",
    "df.at[df.index[(df.Division == 'Johns Hopkins Health Care')], 'Level_2'] = 'JHHS'\n",
    "df.at[df.index[(df.Division == 'Johns Hopkins Health Care')], 'Level_3'] = 'JHHC'"
   ]
  },
  {
   "cell_type": "code",
   "execution_count": 9,
   "metadata": {},
   "outputs": [],
   "source": [
    "#Leveling: FASAP JHHS JHHS\n",
    "df.index[(df.Division == 'Johns Hopkins Health System')]\n",
    "df.at[df.index[(df.Division == 'Johns Hopkins Health System')], 'Level_1'] = 'FASAP'\n",
    "df.at[df.index[(df.Division == 'Johns Hopkins Health System')], 'Level_2'] = 'JHHS'\n",
    "df.at[df.index[(df.Division == 'Johns Hopkins Health System')], 'Level_3'] = 'JHHS'"
   ]
  },
  {
   "cell_type": "code",
   "execution_count": 10,
   "metadata": {},
   "outputs": [],
   "source": [
    "#Leveling: FASAP JHHS JHHCG:\n",
    "\n",
    "#Johns Hopkins Home Care Group\n",
    "df.index[(df.Division == 'Johns Hopkins Home Care Group')]\n",
    "df.at[df.index[(df.Division == 'Johns Hopkins Home Care Group')], 'Level_1'] = 'FASAP'\n",
    "df.at[df.index[(df.Division == 'Johns Hopkins Home Care Group')], 'Level_2'] = 'JHHS'\n",
    "df.at[df.index[(df.Division == 'Johns Hopkins Home Care Group')], 'Level_3'] = 'JHHCG'\n",
    "\n",
    "#Johns Hopkins Home Health Svcs\n",
    "df.index[(df.Division == 'Johns Hopkins Home Health Svcs')]\n",
    "df.at[df.index[(df.Division == 'Johns Hopkins Home Health Svcs')], 'Level_1'] = 'FASAP'\n",
    "df.at[df.index[(df.Division == 'Johns Hopkins Home Health Svcs')], 'Level_2'] = 'JHHS'\n",
    "df.at[df.index[(df.Division == 'Johns Hopkins Home Health Svcs')], 'Level_3'] = 'JHHCG'\n",
    "\n",
    "#Johns Hopkins Home Health Svcs\n",
    "df.index[(df.Division == 'Johns Hopkins Home Health Svcs')]\n",
    "df.at[df.index[(df.Division == 'Johns Hopkins Home Health Svcs')], 'Level_1'] = 'FASAP'\n",
    "df.at[df.index[(df.Division == 'Johns Hopkins Home Health Svcs')], 'Level_2'] = 'JHHS'\n",
    "df.at[df.index[(df.Division == 'Johns Hopkins Home Health Svcs')], 'Level_3'] = 'JHHCG'\n",
    "\n",
    "#Johns Hopkins Pharmaquip\n",
    "df.index[(df.Division == 'Johns Hopkins Pharmaquip')]\n",
    "df.at[df.index[(df.Division == 'Johns Hopkins Pharmaquip')], 'Level_1'] = 'FASAP'\n",
    "df.at[df.index[(df.Division == 'Johns Hopkins Pharmaquip')], 'Level_2'] = 'JHHS'\n",
    "df.at[df.index[(df.Division == 'Johns Hopkins Pharmaquip')], 'Level_3'] = 'JHHCG'"
   ]
  },
  {
   "cell_type": "code",
   "execution_count": 11,
   "metadata": {},
   "outputs": [],
   "source": [
    "#Leveling: FASAP JHHS JHH\n",
    "df.index[(df.Division == 'Johns Hopkins Hospital')]\n",
    "df.at[df.index[(df.Division == 'Johns Hopkins Hospital')], 'Level_1'] = 'FASAP'\n",
    "df.at[df.index[(df.Division == 'Johns Hopkins Hospital')], 'Level_2'] = 'JHHS'\n",
    "df.at[df.index[(df.Division == 'Johns Hopkins Hospital')], 'Level_3'] = 'JHH'"
   ]
  },
  {
   "cell_type": "code",
   "execution_count": 18,
   "metadata": {},
   "outputs": [],
   "source": [
    "#Save df to csv\n",
    "df.to_csv('C:\\\\Users\\\\cbroker1\\\\Desktop\\\\work\\\\Desktop\\\\data.csv')"
   ]
  },
  {
   "cell_type": "code",
   "execution_count": 13,
   "metadata": {},
   "outputs": [],
   "source": [
    "#Leveling: FASAP JHHS General\n",
    "#df.index[(df.Institution == 'Johns Hopkins Medical Institutions') | (df.Division == 'General')]"
   ]
  },
  {
   "cell_type": "code",
   "execution_count": 14,
   "metadata": {},
   "outputs": [],
   "source": [
    "#Recalculate Duration Into Decimal (from hh:mm:ss)\n",
    "#df = df.set_index(pd.DatetimeIndex(df['Duration']))\n",
    "#idx = pd.DatetimeIndex(df['Duration'])\n",
    "#df['Duration_Decimal'] = idx.hour + idx.minute / 60"
   ]
  }
 ],
 "metadata": {
  "kernelspec": {
   "display_name": "Python 3",
   "language": "python",
   "name": "python3"
  },
  "language_info": {
   "codemirror_mode": {
    "name": "ipython",
    "version": 3
   },
   "file_extension": ".py",
   "mimetype": "text/x-python",
   "name": "python",
   "nbconvert_exporter": "python",
   "pygments_lexer": "ipython3",
   "version": "3.6.5"
  }
 },
 "nbformat": 4,
 "nbformat_minor": 2
}
