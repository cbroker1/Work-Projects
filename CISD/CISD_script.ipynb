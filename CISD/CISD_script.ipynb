{
 "cells": [
  {
   "cell_type": "code",
   "execution_count": 43,
   "metadata": {},
   "outputs": [
    {
     "name": "stdout",
     "output_type": "stream",
     "text": [
      "\n",
      "Jess\n",
      "Jess\n"
     ]
    }
   ],
   "source": [
    "import os\n",
    "\n",
    "from docx import Document\n",
    "\n",
    "document_list = []       \n",
    "\n",
    "for path, subdirs, files in os.walk('C:/Users/carlb/Desktop/CISD Temporary Repository'): \n",
    "    for name in files:\n",
    "        # For each file we find, we need to ensure it is a .docx file before adding\n",
    "        #  it to our list\n",
    "        if os.path.splitext(os.path.join(path, name))[1] == \".docx\":\n",
    "            document_list.append(os.path.join(path, name))\n",
    "\n",
    "# Now create a loop that goes over each file path in document_list, replacing your \n",
    "# hard-coded path with the variable.\n",
    "for document_path in document_list:\n",
    "    document = Document(document_path)        # Change the document being loaded each loop\n",
    "    table = document.tables[0]\n",
    "    project_cell = table.rows[1].cells[1]\n",
    "    paragraph = project_cell.paragraphs[0]\n",
    "    project = paragraph.text\n",
    "\n",
    "    print (project)\n",
    "\n",
    "            \n",
    "            "
   ]
  },
  {
   "cell_type": "code",
   "execution_count": 44,
   "metadata": {},
   "outputs": [
    {
     "data": {
      "text/plain": [
       "['C:/Users/carlb/Desktop/CISD Temporary Repository\\\\CISD Form.docx',\n",
       " 'C:/Users/carlb/Desktop/CISD Temporary Repository\\\\CISD Form_1.docx',\n",
       " 'C:/Users/carlb/Desktop/CISD Temporary Repository\\\\CISD Form_2.docx']"
      ]
     },
     "execution_count": 44,
     "metadata": {},
     "output_type": "execute_result"
    }
   ],
   "source": [
    "document_list"
   ]
  },
  {
   "cell_type": "code",
   "execution_count": null,
   "metadata": {},
   "outputs": [],
   "source": []
  }
 ],
 "metadata": {
  "kernelspec": {
   "display_name": "Python 3",
   "language": "python",
   "name": "python3"
  },
  "language_info": {
   "codemirror_mode": {
    "name": "ipython",
    "version": 3
   },
   "file_extension": ".py",
   "mimetype": "text/x-python",
   "name": "python",
   "nbconvert_exporter": "python",
   "pygments_lexer": "ipython3",
   "version": "3.7.0"
  }
 },
 "nbformat": 4,
 "nbformat_minor": 2
}
