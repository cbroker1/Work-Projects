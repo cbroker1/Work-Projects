{
 "cells": [
  {
   "cell_type": "code",
   "execution_count": 1,
   "metadata": {},
   "outputs": [],
   "source": [
    "from sklearn.svm import LinearSVC\n",
    "from sklearn.linear_model import LogisticRegression\n",
    "import pandas as pd\n",
    "import seaborn as sns\n",
    "import matplotlib.pyplot as plt\n",
    "%matplotlib inline\n",
    "sns.set(font_scale=1.5)\n",
    "import numpy as np\n",
    "import datetime \n",
    "from pylab import rcParams\n",
    "rcParams['figure.figsize'] = 20, 10\n",
    "from sklearn.linear_model import LogisticRegression as Model"
   ]
  },
  {
   "cell_type": "code",
   "execution_count": 2,
   "metadata": {},
   "outputs": [],
   "source": [
    "#Open CSV File\n",
    "df = pd.read_csv(r'C:\\Users\\cbroker1\\Desktop\\Appointments.csv')"
   ]
  },
  {
   "cell_type": "code",
   "execution_count": 3,
   "metadata": {},
   "outputs": [
    {
     "data": {
      "text/plain": [
       "0    2011-07-25\n",
       "1    2011-07-21\n",
       "2    2011-08-04\n",
       "3    2011-07-22\n",
       "4    2011-08-01\n",
       "Name: fldDate, dtype: object"
      ]
     },
     "execution_count": 3,
     "metadata": {},
     "output_type": "execute_result"
    }
   ],
   "source": [
    "#Remove blank hh:mm:ss:ms from fldDate\n",
    "df['fldDate'] = pd.to_datetime(df['fldDate'],errors=\"coerce\").dt.strftime(\"%Y-%m-%d\")\n",
    "df['fldDate'].head()"
   ]
  },
  {
   "cell_type": "code",
   "execution_count": 4,
   "metadata": {},
   "outputs": [
    {
     "data": {
      "text/plain": [
       "0    15:00:00.000000\n",
       "1    18:00:00.000000\n",
       "2    09:00:00.000000\n",
       "3    09:00:00.000000\n",
       "4    11:00:00.000000\n",
       "Name: fldTime, dtype: object"
      ]
     },
     "execution_count": 4,
     "metadata": {},
     "output_type": "execute_result"
    }
   ],
   "source": [
    "#Convert dfTime from standard time to military w/ms\n",
    "df['fldTime'] = pd.to_datetime(df['fldTime'],errors=\"coerce\").dt.strftime(\"%H:%M:%S.%f\")\n",
    "df['fldTime'].head()"
   ]
  },
  {
   "cell_type": "code",
   "execution_count": 5,
   "metadata": {},
   "outputs": [
    {
     "data": {
      "text/plain": [
       "0    2011-07-25 15:00:00.000000\n",
       "1    2011-07-21 18:00:00.000000\n",
       "2    2011-08-04 09:00:00.000000\n",
       "3    2011-07-22 09:00:00.000000\n",
       "4    2011-08-01 11:00:00.000000\n",
       "Name: combined, dtype: object"
      ]
     },
     "execution_count": 5,
     "metadata": {},
     "output_type": "execute_result"
    }
   ],
   "source": [
    "#Combine fldDate and fldTime into df.combined\n",
    "df['combined'] = df['fldDate'] + ' ' + df['fldTime']\n",
    "df['combined'].head()"
   ]
  },
  {
   "cell_type": "code",
   "execution_count": 6,
   "metadata": {},
   "outputs": [
    {
     "data": {
      "text/plain": [
       "0   2011-07-25 15:00:00\n",
       "1   2011-07-21 18:00:00\n",
       "2   2011-08-04 09:00:00\n",
       "3   2011-07-22 09:00:00\n",
       "4   2011-08-01 11:00:00\n",
       "Name: combined, dtype: datetime64[ns]"
      ]
     },
     "execution_count": 6,
     "metadata": {},
     "output_type": "execute_result"
    }
   ],
   "source": [
    "#Convert df.combined & df.fldScheduledDateDt into datetime64[ns]\n",
    "df['fldScheduleCreatedDt'] = pd.to_datetime(df['fldScheduleCreatedDt'])\n",
    "df['combined']= pd.to_datetime(df['combined'])"
   ]
  },
  {
   "cell_type": "code",
   "execution_count": 8,
   "metadata": {},
   "outputs": [
    {
     "data": {
      "text/plain": [
       "0                         NaT\n",
       "1                         NaT\n",
       "2                         NaT\n",
       "3   -25 days +22:14:11.337000\n",
       "4                         NaT\n",
       "Name: timefromscheduled, dtype: timedelta64[ns]"
      ]
     },
     "execution_count": 8,
     "metadata": {},
     "output_type": "execute_result"
    }
   ],
   "source": [
    "#Calculate time between schedule timestamp and actual appt time\n",
    "df['timefromscheduled'] = df['combined'] - df['fldScheduleCreatedDt']\n",
    "df['timefromscheduled'].head()"
   ]
  },
  {
   "cell_type": "code",
   "execution_count": 11,
   "metadata": {},
   "outputs": [
    {
     "ename": "AttributeError",
     "evalue": "'function' object has no attribute 'empty'",
     "output_type": "error",
     "traceback": [
      "\u001b[1;31m---------------------------------------------------------------------------\u001b[0m",
      "\u001b[1;31mAttributeError\u001b[0m                            Traceback (most recent call last)",
      "\u001b[1;32m<ipython-input-11-806b03d47313>\u001b[0m in \u001b[0;36m<module>\u001b[1;34m()\u001b[0m\n\u001b[0;32m      1\u001b[0m \u001b[1;31m#Count of 'NaT' in df.timefromscheduled\u001b[0m\u001b[1;33m\u001b[0m\u001b[1;33m\u001b[0m\u001b[0m\n\u001b[1;32m----> 2\u001b[1;33m \u001b[0mdf\u001b[0m\u001b[1;33m.\u001b[0m\u001b[0mtimefromscheduled\u001b[0m\u001b[1;33m.\u001b[0m\u001b[0mvalue_counts\u001b[0m\u001b[1;33m.\u001b[0m\u001b[0mempty\u001b[0m\u001b[1;33m(\u001b[0m\u001b[1;33m)\u001b[0m\u001b[1;33m\u001b[0m\u001b[0m\n\u001b[0m",
      "\u001b[1;31mAttributeError\u001b[0m: 'function' object has no attribute 'empty'"
     ]
    }
   ],
   "source": []
  },
  {
   "cell_type": "code",
   "execution_count": null,
   "metadata": {},
   "outputs": [],
   "source": [
    "#Save df to csv\n",
    "df.to_csv(r'C:\\Users\\cbroker1\\Desktop\\Appointments_pred.csv')"
   ]
  }
 ],
 "metadata": {
  "kernelspec": {
   "display_name": "Python 3",
   "language": "python",
   "name": "python3"
  },
  "language_info": {
   "codemirror_mode": {
    "name": "ipython",
    "version": 3
   },
   "file_extension": ".py",
   "mimetype": "text/x-python",
   "name": "python",
   "nbconvert_exporter": "python",
   "pygments_lexer": "ipython3",
   "version": "3.6.5"
  }
 },
 "nbformat": 4,
 "nbformat_minor": 2
}
